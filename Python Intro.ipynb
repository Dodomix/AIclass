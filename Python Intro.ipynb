{
 "cells": [
  {
   "cell_type": "markdown",
   "metadata": {},
   "source": [
    "#### University of Zagreb\n",
    "#### Faculty of Electrical Engineering and Computing\n",
    "## Python\n",
    "### Artificial Intelligence 2015./2016.\n",
    "http://www.fer.unizg.hr/predmet/umjint\n",
    "\n",
    "(c) 2016, Martin Tutek"
   ]
  },
  {
   "cell_type": "markdown",
   "metadata": {},
   "source": [
    "*\"Python is a widely used high-level, general-purpose, interpreted, dynamic programming language. Its design philosophy emphasizes code readability, and its syntax allows programmers to express concepts in fewer lines of code than would be possible in languages such as C++ or Java.\"*"
   ]
  },
  {
   "cell_type": "markdown",
   "metadata": {},
   "source": [
    "### <center>Debugging Python</center>\n",
    "![Debugging Python](e16qOEj.gif)"
   ]
  },
  {
   "cell_type": "markdown",
   "metadata": {},
   "source": [
    "### Elementary operations"
   ]
  },
  {
   "cell_type": "code",
   "execution_count": null,
   "metadata": {
    "collapsed": false
   },
   "outputs": [],
   "source": [
    "10  # this is a comment"
   ]
  },
  {
   "cell_type": "code",
   "execution_count": null,
   "metadata": {
    "collapsed": false
   },
   "outputs": [],
   "source": [
    "_ # underscore, in this case, returns the result of the last executed statement"
   ]
  },
  {
   "cell_type": "code",
   "execution_count": null,
   "metadata": {
    "collapsed": false
   },
   "outputs": [],
   "source": [
    "10 + 10, 10 - 10, 10 * 10, 10/10, 10**10"
   ]
  },
  {
   "cell_type": "code",
   "execution_count": null,
   "metadata": {
    "collapsed": false
   },
   "outputs": [],
   "source": [
    "type(10)"
   ]
  },
  {
   "cell_type": "code",
   "execution_count": null,
   "metadata": {
    "collapsed": false
   },
   "outputs": [],
   "source": [
    "10 == 10 and 10 > 10, 10 == 10 or 10 < 10, not 10 < 10"
   ]
  },
  {
   "cell_type": "markdown",
   "metadata": {},
   "source": [
    "### Built-in types"
   ]
  },
  {
   "cell_type": "code",
   "execution_count": null,
   "metadata": {
    "collapsed": false
   },
   "outputs": [],
   "source": [
    "x, y, z = 5, 5., '5'"
   ]
  },
  {
   "cell_type": "code",
   "execution_count": null,
   "metadata": {
    "collapsed": false
   },
   "outputs": [],
   "source": [
    "x, y, z"
   ]
  },
  {
   "cell_type": "code",
   "execution_count": null,
   "metadata": {
    "collapsed": false
   },
   "outputs": [],
   "source": [
    "type(x), type(y), type(z)"
   ]
  },
  {
   "cell_type": "code",
   "execution_count": null,
   "metadata": {
    "collapsed": false
   },
   "outputs": [],
   "source": [
    "print dir(x) # All the methods (functions) related to an instance. You can ignore the ones with underscores (_) for now."
   ]
  },
  {
   "cell_type": "code",
   "execution_count": null,
   "metadata": {
    "collapsed": false
   },
   "outputs": [],
   "source": [
    "help(x.bit_length)"
   ]
  },
  {
   "cell_type": "code",
   "execution_count": null,
   "metadata": {
    "collapsed": false
   },
   "outputs": [],
   "source": [
    "print x.bit_length()"
   ]
  },
  {
   "cell_type": "markdown",
   "metadata": {},
   "source": [
    "#### String operations"
   ]
  },
  {
   "cell_type": "code",
   "execution_count": null,
   "metadata": {
    "collapsed": false
   },
   "outputs": [],
   "source": [
    "print dir(z)"
   ]
  },
  {
   "cell_type": "code",
   "execution_count": null,
   "metadata": {
    "collapsed": false
   },
   "outputs": [],
   "source": [
    "a, i = 'artificial', \"INTELLIGENCE\"\n",
    "ai = a + i ; ai"
   ]
  },
  {
   "cell_type": "code",
   "execution_count": null,
   "metadata": {
    "collapsed": false
   },
   "outputs": [],
   "source": [
    "ia = i.lower() + a.upper() ; ia"
   ]
  },
  {
   "cell_type": "code",
   "execution_count": null,
   "metadata": {
    "collapsed": false
   },
   "outputs": [],
   "source": [
    "len(ai)"
   ]
  },
  {
   "cell_type": "markdown",
   "metadata": {},
   "source": [
    "#### Error handling"
   ]
  },
  {
   "cell_type": "code",
   "execution_count": null,
   "metadata": {
    "collapsed": false
   },
   "outputs": [],
   "source": [
    "assert len(ia) != len(ai), \"I'm an error message\""
   ]
  },
  {
   "cell_type": "code",
   "execution_count": null,
   "metadata": {
    "collapsed": false
   },
   "outputs": [],
   "source": [
    "number = 5 ; string = 'five'\n",
    "try:\n",
    "    number + string\n",
    "except TypeError as e:\n",
    "    print e\n",
    "    print str(number) + string"
   ]
  },
  {
   "cell_type": "code",
   "execution_count": null,
   "metadata": {
    "collapsed": false
   },
   "outputs": [],
   "source": [
    "five = '5'\n",
    "print five, float(five), int(five)"
   ]
  },
  {
   "cell_type": "markdown",
   "metadata": {},
   "source": [
    "### Lists"
   ]
  },
  {
   "cell_type": "code",
   "execution_count": null,
   "metadata": {
    "collapsed": false
   },
   "outputs": [],
   "source": [
    "robots = ['Terminator', 'HAL 9000', 'Tin Man', 'Ava'] \n",
    "# Where do they come from? Which one is not like the rest?\n",
    "type(robots), robots"
   ]
  },
  {
   "cell_type": "code",
   "execution_count": null,
   "metadata": {
    "collapsed": false
   },
   "outputs": [],
   "source": [
    "robots[0], robots[len(robots) - 1], robots[-1] # Python allows negative indexing"
   ]
  },
  {
   "cell_type": "code",
   "execution_count": null,
   "metadata": {
    "collapsed": false
   },
   "outputs": [],
   "source": [
    "robots[0] = 'Terminator 2' ; robots"
   ]
  },
  {
   "cell_type": "code",
   "execution_count": null,
   "metadata": {
    "collapsed": false
   },
   "outputs": [],
   "source": [
    "robots.append(7/9) \n",
    "# Disclaimer: we know that seven of nine is not a robot"
   ]
  },
  {
   "cell_type": "code",
   "execution_count": null,
   "metadata": {
    "collapsed": false
   },
   "outputs": [],
   "source": [
    "robots # Apparently, so does Python. Can you explain what happened here?"
   ]
  },
  {
   "cell_type": "code",
   "execution_count": null,
   "metadata": {
    "collapsed": false
   },
   "outputs": [],
   "source": [
    "robots.pop()"
   ]
  },
  {
   "cell_type": "code",
   "execution_count": null,
   "metadata": {
    "collapsed": false
   },
   "outputs": [],
   "source": [
    "# Lists in python can be nested - an element of a list can be a list, \n",
    "#   an element of that list can again be a list etc.\n",
    "robots[0] = ['Terminator', 'Terminator 2', 'Terminator 3'] ; print robots"
   ]
  },
  {
   "cell_type": "code",
   "execution_count": null,
   "metadata": {
    "collapsed": false
   },
   "outputs": [],
   "source": [
    "# Nested lists are indexed in the same fashion as regular lists\n",
    "print robots[0][1]"
   ]
  },
  {
   "cell_type": "code",
   "execution_count": null,
   "metadata": {
    "collapsed": false
   },
   "outputs": [],
   "source": [
    "robots = robots[1:] ; robots"
   ]
  },
  {
   "cell_type": "code",
   "execution_count": null,
   "metadata": {
    "collapsed": false
   },
   "outputs": [],
   "source": [
    "robots.reverse() # The reverse operation is done in place - this means that the original list is changed\n",
    "print robots"
   ]
  },
  {
   "cell_type": "code",
   "execution_count": null,
   "metadata": {
    "collapsed": false
   },
   "outputs": [],
   "source": [
    "robots = sorted(robots) # sorting is not done in place, so we need to assign the result\n",
    "print robots"
   ]
  },
  {
   "cell_type": "markdown",
   "metadata": {},
   "source": [
    "### Tuples"
   ]
  },
  {
   "cell_type": "code",
   "execution_count": null,
   "metadata": {
    "collapsed": false
   },
   "outputs": [],
   "source": [
    "pair = ('Ace', 'Ace') ; print pair"
   ]
  },
  {
   "cell_type": "code",
   "execution_count": null,
   "metadata": {
    "collapsed": false
   },
   "outputs": [],
   "source": [
    "print pair[0], len(pair)"
   ]
  },
  {
   "cell_type": "code",
   "execution_count": null,
   "metadata": {
    "collapsed": false
   },
   "outputs": [],
   "source": [
    "a1, a2 = pair ; print a1 ; print a2"
   ]
  },
  {
   "cell_type": "code",
   "execution_count": null,
   "metadata": {
    "collapsed": false
   },
   "outputs": [],
   "source": [
    "pair[1] = 'Seven' # No cheating - tuples are immutable\n",
    "# What does 'immutable' mean?"
   ]
  },
  {
   "cell_type": "markdown",
   "metadata": {},
   "source": [
    "### Sets"
   ]
  },
  {
   "cell_type": "code",
   "execution_count": null,
   "metadata": {
    "collapsed": false
   },
   "outputs": [],
   "source": [
    "numbers = ['zero', 'one', 'two', 'three', 'three']\n",
    "number_set = set(numbers) ; print number_set"
   ]
  },
  {
   "cell_type": "code",
   "execution_count": null,
   "metadata": {
    "collapsed": false
   },
   "outputs": [],
   "source": [
    "number_set.add('four') ; print number_set"
   ]
  },
  {
   "cell_type": "code",
   "execution_count": null,
   "metadata": {
    "collapsed": false
   },
   "outputs": [],
   "source": [
    "print 'three' in number_set ; print 'six' in number_set"
   ]
  },
  {
   "cell_type": "code",
   "execution_count": null,
   "metadata": {
    "collapsed": false
   },
   "outputs": [],
   "source": [
    "zero = 'zero'\n",
    "zero_set = set(zero) # Let's compute set intersection with &\n",
    "print number_set & zero_set # ?????"
   ]
  },
  {
   "cell_type": "code",
   "execution_count": null,
   "metadata": {
    "collapsed": false
   },
   "outputs": [],
   "source": [
    "print zero_set # Strings are arrays of characters!"
   ]
  },
  {
   "cell_type": "code",
   "execution_count": null,
   "metadata": {
    "collapsed": false
   },
   "outputs": [],
   "source": [
    "# Solution - wrap the string in a list\n",
    "zero_set = set([zero]) ; print zero_set ; print number_set & zero_set"
   ]
  },
  {
   "cell_type": "code",
   "execution_count": null,
   "metadata": {
    "collapsed": false
   },
   "outputs": [],
   "source": [
    "print number_set - zero_set ; print number_set | zero_set # Set subtraction and set union"
   ]
  },
  {
   "cell_type": "markdown",
   "metadata": {},
   "source": [
    "### Dictionaries"
   ]
  },
  {
   "cell_type": "code",
   "execution_count": null,
   "metadata": {
    "collapsed": false
   },
   "outputs": [],
   "source": [
    "frequencies = {'artificial' : 5, 'intelligence' : 5, 'is' : 5, 'awesome' : 1, 'CENSORED' : 4}\n",
    "print frequencies ; print frequencies['intelligence']"
   ]
  },
  {
   "cell_type": "code",
   "execution_count": null,
   "metadata": {
    "collapsed": false
   },
   "outputs": [],
   "source": [
    "value = frequencies['CENSORED'] ; del frequencies['CENSORED'] ; frequencies['awesome'] += value"
   ]
  },
  {
   "cell_type": "code",
   "execution_count": null,
   "metadata": {
    "collapsed": false
   },
   "outputs": [],
   "source": [
    "print frequencies.items(); print frequencies.keys(); print frequencies.values()"
   ]
  },
  {
   "cell_type": "code",
   "execution_count": null,
   "metadata": {
    "collapsed": false
   },
   "outputs": [],
   "source": [
    "print dir(frequencies)"
   ]
  },
  {
   "cell_type": "markdown",
   "metadata": {},
   "source": [
    "#### Map, Filter, Reduce"
   ]
  },
  {
   "cell_type": "code",
   "execution_count": null,
   "metadata": {
    "collapsed": false
   },
   "outputs": [],
   "source": [
    "numbers = range(1, 10, 1) ; print numbers # from - to - step "
   ]
  },
  {
   "cell_type": "code",
   "execution_count": null,
   "metadata": {
    "collapsed": false
   },
   "outputs": [],
   "source": [
    "squared_numbers = map(lambda x: x**2, numbers) ; print squared_numbers"
   ]
  },
  {
   "cell_type": "code",
   "execution_count": null,
   "metadata": {
    "collapsed": false
   },
   "outputs": [],
   "source": [
    "big_numbers = filter(lambda x: x > 4, numbers) ; print big_numbers"
   ]
  },
  {
   "cell_type": "code",
   "execution_count": null,
   "metadata": {
    "collapsed": false
   },
   "outputs": [],
   "source": [
    "sum_of_numbers = reduce(lambda x, y: x+y, numbers) ; print sum_of_numbers ; print sum_of_numbers == sum(numbers)"
   ]
  },
  {
   "cell_type": "markdown",
   "metadata": {},
   "source": [
    "#### List comprehensions"
   ]
  },
  {
   "cell_type": "code",
   "execution_count": null,
   "metadata": {
    "collapsed": false
   },
   "outputs": [],
   "source": [
    "squared_numbers2 = [x*x for x in numbers] ; print squared_numbers2"
   ]
  },
  {
   "cell_type": "code",
   "execution_count": null,
   "metadata": {
    "collapsed": false
   },
   "outputs": [],
   "source": [
    "big_numbers2 = [x for x in numbers if x > 4] ; print big_numbers2"
   ]
  },
  {
   "cell_type": "markdown",
   "metadata": {},
   "source": [
    "#### Interested? Have a lot of free time?\n",
    "http://stackoverflow.com/questions/1247486/python-list-comprehension-vs-map/6407222#6407222"
   ]
  },
  {
   "cell_type": "markdown",
   "metadata": {},
   "source": [
    "### Iteration"
   ]
  },
  {
   "cell_type": "code",
   "execution_count": null,
   "metadata": {
    "collapsed": false
   },
   "outputs": [],
   "source": [
    "# How can we be sure that all the squared numbers are really the same in the lists?\n",
    "length_of_squares = len(squared_numbers)\n",
    "length_of_squares2 = len(squared_numbers2)\n",
    "assert length_of_squares == length_of_squares2, \"Lengths don't match!\"\n",
    "\n",
    "for idx in range(length_of_squares):\n",
    "    assert squared_numbers[idx] == squared_numbers2[idx], \"Elements at location %d don't match!\" % idx"
   ]
  },
  {
   "cell_type": "code",
   "execution_count": null,
   "metadata": {
    "collapsed": false
   },
   "outputs": [],
   "source": [
    "# Indexing sucks\n",
    "for idx, (sq1, sq2) in enumerate(zip(squared_numbers, squared_numbers2)):\n",
    "    assert sq1 == sq2, \"Elements at location %d don't match!\" % idx"
   ]
  },
  {
   "cell_type": "code",
   "execution_count": null,
   "metadata": {
    "collapsed": false
   },
   "outputs": [],
   "source": [
    "# One-liner\n",
    "print all([sq1 == sq2 for sq1, sq2 in zip(squared_numbers, squared_numbers2)])"
   ]
  },
  {
   "cell_type": "markdown",
   "metadata": {},
   "source": [
    "### Indentation\n",
    "Tabs or spaces"
   ]
  },
  {
   "cell_type": "code",
   "execution_count": null,
   "metadata": {
    "collapsed": false
   },
   "outputs": [],
   "source": [
    "if False:\n",
    "    print 'Will this print?'\n",
    "print 'What about this?'"
   ]
  },
  {
   "cell_type": "code",
   "execution_count": null,
   "metadata": {
    "collapsed": false
   },
   "outputs": [],
   "source": [
    "if False:\n",
    "    print 'This will surely not print'\n",
    "    print 'What about this?'"
   ]
  },
  {
   "cell_type": "code",
   "execution_count": null,
   "metadata": {
    "collapsed": false
   },
   "outputs": [],
   "source": [
    "if False:\n",
    "    print 'This will, Shirley, not print'\n",
    "elif True:\n",
    "    print 'Maybe this will?'\n",
    "else:\n",
    "    print 'But this won\\'t'"
   ]
  },
  {
   "cell_type": "markdown",
   "metadata": {},
   "source": [
    "### Functions"
   ]
  },
  {
   "cell_type": "code",
   "execution_count": null,
   "metadata": {
    "collapsed": false
   },
   "outputs": [],
   "source": [
    "def a_function(an_argument): print type(an_argument)"
   ]
  },
  {
   "cell_type": "code",
   "execution_count": null,
   "metadata": {
    "collapsed": false
   },
   "outputs": [],
   "source": [
    "print a_function(5) ; print a_function('5') # What are the Nones???"
   ]
  },
  {
   "cell_type": "code",
   "execution_count": null,
   "metadata": {
    "collapsed": false
   },
   "outputs": [],
   "source": [
    "def another_function(an_argument): return type(an_argument)"
   ]
  },
  {
   "cell_type": "code",
   "execution_count": null,
   "metadata": {
    "collapsed": false
   },
   "outputs": [],
   "source": [
    "print another_function(5) ; print another_function('5') \n",
    "# Python returns None as default when no return is specified\n",
    "# This causes a lot of headaches when you forget to return a value and everything seems to work"
   ]
  },
  {
   "cell_type": "code",
   "execution_count": null,
   "metadata": {
    "collapsed": false
   },
   "outputs": [],
   "source": [
    "# functions can have default values for arguments\n",
    "def ai(question='Hi, how are you?'):\n",
    "    answer = 'Very well, thank you!'\n",
    "    return question, answer # what type(s) are we returning?"
   ]
  },
  {
   "cell_type": "code",
   "execution_count": null,
   "metadata": {
    "collapsed": false
   },
   "outputs": [],
   "source": [
    "print ai()"
   ]
  },
  {
   "cell_type": "code",
   "execution_count": null,
   "metadata": {
    "collapsed": false
   },
   "outputs": [],
   "source": [
    "print ai('How did the Python introduction class go?')"
   ]
  },
  {
   "cell_type": "markdown",
   "metadata": {},
   "source": [
    "### Classes"
   ]
  },
  {
   "cell_type": "code",
   "execution_count": null,
   "metadata": {
    "collapsed": false
   },
   "outputs": [],
   "source": [
    "class AIShopAssistant:\n",
    "    \"\"\"\n",
    "    AI powered shop assistant\n",
    "    This is a docstring\n",
    "    \"\"\"\n",
    "    # this is a static variable \n",
    "    transactions = 0\n",
    "    \n",
    "    def __init__(self, name, money):\n",
    "        \"\"\"\n",
    "        Constructor\n",
    "            name: your name\n",
    "            money: your cash balance\n",
    "        \"\"\"\n",
    "        # these are instance variables \n",
    "        self.name = name\n",
    "        self.money = money\n",
    "        # what are instance variables? \n",
    "        # what is the difference between them and static variables?\n",
    "        print 'Hi %s, I am your intelligent shop assitant! Your account balance is %f' % (name, money)\n",
    "    \n",
    "    def money_left(self):\n",
    "        \"\"\"\n",
    "        Returns current account balance\n",
    "        \"\"\"\n",
    "        print 'You have %.2f money left!' % self.money\n",
    "    \n",
    "    def calculate_cost(self, price, amount):\n",
    "        \"\"\"\n",
    "            price: price of a single item\n",
    "            amount: amount of items to buy\n",
    "        Returns total cost for item\n",
    "        \"\"\"\n",
    "        return price * amount\n",
    "    \n",
    "    def buy(self, item, price, amount=1):\n",
    "        \"\"\"\n",
    "            item: name of item to buy\n",
    "            price : price of a single item\n",
    "            amount: amount of items to buy (default = 1)\n",
    "        \"\"\"\n",
    "        cost = self.calculate_cost(price, amount)\n",
    "        if cost > self.money:\n",
    "            print('Insufficient funds!')\n",
    "            return \n",
    "        \n",
    "        AIShopAssistant.transactions += 1\n",
    "        self.money -= cost\n",
    "        print 'You have purchased %d %s for a total of %f!' % (amount, item, cost)\n",
    "        print 'This is the #%d global AI powered shop assistant transaction!' % AIShopAssistant.transactions"
   ]
  },
  {
   "cell_type": "code",
   "execution_count": null,
   "metadata": {
    "collapsed": false
   },
   "outputs": [],
   "source": [
    "# The biggest problem of AI was always using plural\n",
    "terminator = AIShopAssistant('John Connor', 10)\n",
    "terminator.money_left()\n",
    "terminator.buy('Tulip', 3.10, 4)"
   ]
  },
  {
   "cell_type": "code",
   "execution_count": null,
   "metadata": {
    "collapsed": false
   },
   "outputs": [],
   "source": [
    "terminator.buy('Tulip', 3.10, 3)"
   ]
  },
  {
   "cell_type": "code",
   "execution_count": null,
   "metadata": {
    "collapsed": false
   },
   "outputs": [],
   "source": [
    "terminator2 = AIShopAssistant('Sarah Connor', 1000)\n",
    "terminator2.buy('Gun', 10, 50)"
   ]
  },
  {
   "cell_type": "code",
   "execution_count": null,
   "metadata": {
    "collapsed": true
   },
   "outputs": [],
   "source": []
  }
 ],
 "metadata": {
  "kernelspec": {
   "display_name": "Python 2",
   "language": "python",
   "name": "python2"
  },
  "language_info": {
   "codemirror_mode": {
    "name": "ipython",
    "version": 2
   },
   "file_extension": ".py",
   "mimetype": "text/x-python",
   "name": "python",
   "nbconvert_exporter": "python",
   "pygments_lexer": "ipython2",
   "version": "2.7.6"
  }
 },
 "nbformat": 4,
 "nbformat_minor": 0
}
